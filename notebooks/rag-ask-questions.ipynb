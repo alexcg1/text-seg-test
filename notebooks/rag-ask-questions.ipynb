{
 "cells": [
  {
   "cell_type": "markdown",
   "id": "7d408a11-7957-479b-9b1f-74cda704fa8a",
   "metadata": {},
   "source": [
    "## RAG system\n",
    "\n",
    "We'll use a RAG system to answer questions using each chunking strategy"
   ]
  },
  {
   "cell_type": "code",
   "execution_count": 4,
   "id": "6d042416-c65c-488b-9876-4174ac19cd7f",
   "metadata": {},
   "outputs": [],
   "source": [
    "import pickle\n",
    "\n",
    "with open(\"docs-all-chunks\", \"rb\") as file:\n",
    "    docs = pickle.load(file)\n",
    "\n",
    "with open(\"topics_questions_answers.pkl\", \"rb\") as file:\n",
    "    qas = pickle.load(file)"
   ]
  },
  {
   "cell_type": "code",
   "execution_count": null,
   "id": "04000c7f-0b2b-4e21-af84-2cf67e5f1602",
   "metadata": {},
   "outputs": [],
   "source": []
  }
 ],
 "metadata": {
  "kernelspec": {
   "display_name": "Python 3 (ipykernel)",
   "language": "python",
   "name": "python3"
  },
  "language_info": {
   "codemirror_mode": {
    "name": "ipython",
    "version": 3
   },
   "file_extension": ".py",
   "mimetype": "text/x-python",
   "name": "python",
   "nbconvert_exporter": "python",
   "pygments_lexer": "ipython3",
   "version": "3.10.12"
  }
 },
 "nbformat": 4,
 "nbformat_minor": 5
}
